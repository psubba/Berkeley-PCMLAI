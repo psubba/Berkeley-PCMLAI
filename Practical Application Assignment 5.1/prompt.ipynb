{
 "cells": [
  {
   "cell_type": "markdown",
   "metadata": {},
   "source": [
    "### Will a Customer Accept the Coupon?\n",
    "\n",
    "**Context**\n",
    "\n",
    "Imagine driving through town and a coupon is delivered to your cell phone for a restaraunt near where you are driving. Would you accept that coupon and take a short detour to the restaraunt? Would you accept the coupon but use it on a sunbsequent trip? Would you ignore the coupon entirely? What if the coupon was for a bar instead of a restaraunt? What about a coffee house? Would you accept a bar coupon with a minor passenger in the car? What about if it was just you and your partner in the car? Would weather impact the rate of acceptance? What about the time of day?\n",
    "\n",
    "Obviously, proximity to the business is a factor on whether the coupon is delivered to the driver or not, but what are the factors that determine whether a driver accepts the coupon once it is delivered to them? How would you determine whether a driver is likely to accept a coupon?\n",
    "\n",
    "**Overview**\n",
    "\n",
    "The goal of this project is to use what you know about visualizations and probability distributions to distinguish between customers who accepted a driving coupon versus those that did not.\n",
    "\n",
    "**Data**\n",
    "\n",
    "This data comes to us from the UCI Machine Learning repository and was collected via a survey on Amazon Mechanical Turk. The survey describes different driving scenarios including the destination, current time, weather, passenger, etc., and then ask the person whether he will accept the coupon if he is the driver. Answers that the user will drive there ‘right away’ or ‘later before the coupon expires’ are labeled as ‘Y = 1’ and answers ‘no, I do not want the coupon’ are labeled as ‘Y = 0’.  There are five different types of coupons -- less expensive restaurants (under \\\\$20), coffee houses, carry out & take away, bar, and more expensive restaurants (\\\\$20 - \\\\$50). "
   ]
  },
  {
   "cell_type": "markdown",
   "metadata": {},
   "source": [
    "**Deliverables**\n",
    "\n",
    "Your final product should be a brief report that highlights the differences between customers who did and did not accept the coupons.  To explore the data you will utilize your knowledge of plotting, statistical summaries, and visualization using Python. You will publish your findings in a public facing github repository as your first portfolio piece. \n",
    "\n",
    "\n",
    "\n"
   ]
  },
  {
   "cell_type": "markdown",
   "metadata": {},
   "source": [
    "### Data Description\n",
    "Keep in mind that these values mentioned below are average values.\n",
    "\n",
    "The attributes of this data set include:\n",
    "1. User attributes\n",
    "    -  Gender: male, female\n",
    "    -  Age: below 21, 21 to 25, 26 to 30, etc.\n",
    "    -  Marital Status: single, married partner, unmarried partner, or widowed\n",
    "    -  Number of children: 0, 1, or more than 1\n",
    "    -  Education: high school, bachelors degree, associates degree, or graduate degree\n",
    "    -  Occupation: architecture & engineering, business & financial, etc.\n",
    "    -  Annual income: less than \\\\$12500, \\\\$12500 - \\\\$24999, \\\\$25000 - \\\\$37499, etc.\n",
    "    -  Number of times that he/she goes to a bar: 0, less than 1, 1 to 3, 4 to 8 or greater than 8\n",
    "    -  Number of times that he/she buys takeaway food: 0, less than 1, 1 to 3, 4 to 8 or greater\n",
    "    than 8\n",
    "    -  Number of times that he/she goes to a coffee house: 0, less than 1, 1 to 3, 4 to 8 or\n",
    "    greater than 8\n",
    "    -  Number of times that he/she eats at a restaurant with average expense less than \\\\$20 per\n",
    "    person: 0, less than 1, 1 to 3, 4 to 8 or greater than 8\n",
    "    -  Number of times that he/she goes to a bar: 0, less than 1, 1 to 3, 4 to 8 or greater than 8\n",
    "    \n",
    "\n",
    "2. Contextual attributes\n",
    "    - Driving destination: home, work, or no urgent destination\n",
    "    - Location of user, coupon and destination: we provide a map to show the geographical\n",
    "    location of the user, destination, and the venue, and we mark the distance between each\n",
    "    two places with time of driving. The user can see whether the venue is in the same\n",
    "    direction as the destination.\n",
    "    - Weather: sunny, rainy, or snowy\n",
    "    - Temperature: 30F, 55F, or 80F\n",
    "    - Time: 10AM, 2PM, or 6PM\n",
    "    - Passenger: alone, partner, kid(s), or friend(s)\n",
    "\n",
    "\n",
    "3. Coupon attributes\n",
    "    - time before it expires: 2 hours or one day"
   ]
  },
  {
   "cell_type": "code",
   "execution_count": 1,
   "metadata": {},
   "outputs": [],
   "source": [
    "import matplotlib.pyplot as plt\n",
    "import seaborn as sns\n",
    "import pandas as pd\n",
    "import numpy as np"
   ]
  },
  {
   "cell_type": "markdown",
   "metadata": {},
   "source": [
    "### Problems\n",
    "\n",
    "Use the prompts below to get started with your data analysis.  \n",
    "\n",
    "1. Read in the `coupons.csv` file.\n",
    "\n",
    "\n"
   ]
  },
  {
   "cell_type": "code",
   "execution_count": 2,
   "metadata": {},
   "outputs": [],
   "source": [
    "data = pd.read_csv('data/coupons.csv')"
   ]
  },
  {
   "cell_type": "code",
   "execution_count": 5,
   "metadata": {},
   "outputs": [
    {
     "data": {
      "text/html": [
       "<div>\n",
       "<style scoped>\n",
       "    .dataframe tbody tr th:only-of-type {\n",
       "        vertical-align: middle;\n",
       "    }\n",
       "\n",
       "    .dataframe tbody tr th {\n",
       "        vertical-align: top;\n",
       "    }\n",
       "\n",
       "    .dataframe thead th {\n",
       "        text-align: right;\n",
       "    }\n",
       "</style>\n",
       "<table border=\"1\" class=\"dataframe\">\n",
       "  <thead>\n",
       "    <tr style=\"text-align: right;\">\n",
       "      <th></th>\n",
       "      <th>destination</th>\n",
       "      <th>passanger</th>\n",
       "      <th>weather</th>\n",
       "      <th>temperature</th>\n",
       "      <th>time</th>\n",
       "      <th>coupon</th>\n",
       "      <th>expiration</th>\n",
       "      <th>gender</th>\n",
       "      <th>age</th>\n",
       "      <th>maritalStatus</th>\n",
       "      <th>...</th>\n",
       "      <th>CoffeeHouse</th>\n",
       "      <th>CarryAway</th>\n",
       "      <th>RestaurantLessThan20</th>\n",
       "      <th>Restaurant20To50</th>\n",
       "      <th>toCoupon_GEQ5min</th>\n",
       "      <th>toCoupon_GEQ15min</th>\n",
       "      <th>toCoupon_GEQ25min</th>\n",
       "      <th>direction_same</th>\n",
       "      <th>direction_opp</th>\n",
       "      <th>Y</th>\n",
       "    </tr>\n",
       "  </thead>\n",
       "  <tbody>\n",
       "    <tr>\n",
       "      <th>0</th>\n",
       "      <td>No Urgent Place</td>\n",
       "      <td>Alone</td>\n",
       "      <td>Sunny</td>\n",
       "      <td>55</td>\n",
       "      <td>2PM</td>\n",
       "      <td>Restaurant(&lt;20)</td>\n",
       "      <td>1d</td>\n",
       "      <td>Female</td>\n",
       "      <td>21</td>\n",
       "      <td>Unmarried partner</td>\n",
       "      <td>...</td>\n",
       "      <td>never</td>\n",
       "      <td>NaN</td>\n",
       "      <td>4~8</td>\n",
       "      <td>1~3</td>\n",
       "      <td>1</td>\n",
       "      <td>0</td>\n",
       "      <td>0</td>\n",
       "      <td>0</td>\n",
       "      <td>1</td>\n",
       "      <td>1</td>\n",
       "    </tr>\n",
       "    <tr>\n",
       "      <th>1</th>\n",
       "      <td>No Urgent Place</td>\n",
       "      <td>Friend(s)</td>\n",
       "      <td>Sunny</td>\n",
       "      <td>80</td>\n",
       "      <td>10AM</td>\n",
       "      <td>Coffee House</td>\n",
       "      <td>2h</td>\n",
       "      <td>Female</td>\n",
       "      <td>21</td>\n",
       "      <td>Unmarried partner</td>\n",
       "      <td>...</td>\n",
       "      <td>never</td>\n",
       "      <td>NaN</td>\n",
       "      <td>4~8</td>\n",
       "      <td>1~3</td>\n",
       "      <td>1</td>\n",
       "      <td>0</td>\n",
       "      <td>0</td>\n",
       "      <td>0</td>\n",
       "      <td>1</td>\n",
       "      <td>0</td>\n",
       "    </tr>\n",
       "    <tr>\n",
       "      <th>2</th>\n",
       "      <td>No Urgent Place</td>\n",
       "      <td>Friend(s)</td>\n",
       "      <td>Sunny</td>\n",
       "      <td>80</td>\n",
       "      <td>10AM</td>\n",
       "      <td>Carry out &amp; Take away</td>\n",
       "      <td>2h</td>\n",
       "      <td>Female</td>\n",
       "      <td>21</td>\n",
       "      <td>Unmarried partner</td>\n",
       "      <td>...</td>\n",
       "      <td>never</td>\n",
       "      <td>NaN</td>\n",
       "      <td>4~8</td>\n",
       "      <td>1~3</td>\n",
       "      <td>1</td>\n",
       "      <td>1</td>\n",
       "      <td>0</td>\n",
       "      <td>0</td>\n",
       "      <td>1</td>\n",
       "      <td>1</td>\n",
       "    </tr>\n",
       "    <tr>\n",
       "      <th>3</th>\n",
       "      <td>No Urgent Place</td>\n",
       "      <td>Friend(s)</td>\n",
       "      <td>Sunny</td>\n",
       "      <td>80</td>\n",
       "      <td>2PM</td>\n",
       "      <td>Coffee House</td>\n",
       "      <td>2h</td>\n",
       "      <td>Female</td>\n",
       "      <td>21</td>\n",
       "      <td>Unmarried partner</td>\n",
       "      <td>...</td>\n",
       "      <td>never</td>\n",
       "      <td>NaN</td>\n",
       "      <td>4~8</td>\n",
       "      <td>1~3</td>\n",
       "      <td>1</td>\n",
       "      <td>1</td>\n",
       "      <td>0</td>\n",
       "      <td>0</td>\n",
       "      <td>1</td>\n",
       "      <td>0</td>\n",
       "    </tr>\n",
       "    <tr>\n",
       "      <th>4</th>\n",
       "      <td>No Urgent Place</td>\n",
       "      <td>Friend(s)</td>\n",
       "      <td>Sunny</td>\n",
       "      <td>80</td>\n",
       "      <td>2PM</td>\n",
       "      <td>Coffee House</td>\n",
       "      <td>1d</td>\n",
       "      <td>Female</td>\n",
       "      <td>21</td>\n",
       "      <td>Unmarried partner</td>\n",
       "      <td>...</td>\n",
       "      <td>never</td>\n",
       "      <td>NaN</td>\n",
       "      <td>4~8</td>\n",
       "      <td>1~3</td>\n",
       "      <td>1</td>\n",
       "      <td>1</td>\n",
       "      <td>0</td>\n",
       "      <td>0</td>\n",
       "      <td>1</td>\n",
       "      <td>0</td>\n",
       "    </tr>\n",
       "  </tbody>\n",
       "</table>\n",
       "<p>5 rows × 26 columns</p>\n",
       "</div>"
      ],
      "text/plain": [
       "       destination  passanger weather  temperature  time  \\\n",
       "0  No Urgent Place      Alone   Sunny           55   2PM   \n",
       "1  No Urgent Place  Friend(s)   Sunny           80  10AM   \n",
       "2  No Urgent Place  Friend(s)   Sunny           80  10AM   \n",
       "3  No Urgent Place  Friend(s)   Sunny           80   2PM   \n",
       "4  No Urgent Place  Friend(s)   Sunny           80   2PM   \n",
       "\n",
       "                  coupon expiration  gender age      maritalStatus  ...  \\\n",
       "0        Restaurant(<20)         1d  Female  21  Unmarried partner  ...   \n",
       "1           Coffee House         2h  Female  21  Unmarried partner  ...   \n",
       "2  Carry out & Take away         2h  Female  21  Unmarried partner  ...   \n",
       "3           Coffee House         2h  Female  21  Unmarried partner  ...   \n",
       "4           Coffee House         1d  Female  21  Unmarried partner  ...   \n",
       "\n",
       "   CoffeeHouse CarryAway RestaurantLessThan20 Restaurant20To50  \\\n",
       "0        never       NaN                  4~8              1~3   \n",
       "1        never       NaN                  4~8              1~3   \n",
       "2        never       NaN                  4~8              1~3   \n",
       "3        never       NaN                  4~8              1~3   \n",
       "4        never       NaN                  4~8              1~3   \n",
       "\n",
       "  toCoupon_GEQ5min toCoupon_GEQ15min toCoupon_GEQ25min direction_same  \\\n",
       "0                1                 0                 0              0   \n",
       "1                1                 0                 0              0   \n",
       "2                1                 1                 0              0   \n",
       "3                1                 1                 0              0   \n",
       "4                1                 1                 0              0   \n",
       "\n",
       "  direction_opp  Y  \n",
       "0             1  1  \n",
       "1             1  0  \n",
       "2             1  1  \n",
       "3             1  0  \n",
       "4             1  0  \n",
       "\n",
       "[5 rows x 26 columns]"
      ]
     },
     "execution_count": 5,
     "metadata": {},
     "output_type": "execute_result"
    }
   ],
   "source": [
    "data.head()"
   ]
  },
  {
   "cell_type": "markdown",
   "metadata": {},
   "source": [
    "2. Investigate the dataset for missing or problematic data."
   ]
  },
  {
   "cell_type": "code",
   "execution_count": 8,
   "metadata": {},
   "outputs": [
    {
     "data": {
      "text/plain": [
       "destination                 0\n",
       "passanger                   0\n",
       "weather                     0\n",
       "temperature                 0\n",
       "time                        0\n",
       "coupon                      0\n",
       "expiration                  0\n",
       "gender                      0\n",
       "age                         0\n",
       "maritalStatus               0\n",
       "has_children                0\n",
       "education                   0\n",
       "occupation                  0\n",
       "income                      0\n",
       "car                     12576\n",
       "Bar                       107\n",
       "CoffeeHouse               217\n",
       "CarryAway                 151\n",
       "RestaurantLessThan20      130\n",
       "Restaurant20To50          189\n",
       "toCoupon_GEQ5min            0\n",
       "toCoupon_GEQ15min           0\n",
       "toCoupon_GEQ25min           0\n",
       "direction_same              0\n",
       "direction_opp               0\n",
       "Y                           0\n",
       "dtype: int64"
      ]
     },
     "execution_count": 8,
     "metadata": {},
     "output_type": "execute_result"
    }
   ],
   "source": [
    "# Check for missing data\n",
    "missing_data = data.isnull().sum()\n",
    "missing_data"
   ]
  },
  {
   "cell_type": "code",
   "execution_count": 10,
   "metadata": {},
   "outputs": [
    {
     "data": {
      "text/plain": [
       "(destination             object\n",
       " passanger               object\n",
       " weather                 object\n",
       " temperature              int64\n",
       " time                    object\n",
       " coupon                  object\n",
       " expiration              object\n",
       " gender                  object\n",
       " age                     object\n",
       " maritalStatus           object\n",
       " has_children             int64\n",
       " education               object\n",
       " occupation              object\n",
       " income                  object\n",
       " car                     object\n",
       " Bar                     object\n",
       " CoffeeHouse             object\n",
       " CarryAway               object\n",
       " RestaurantLessThan20    object\n",
       " Restaurant20To50        object\n",
       " toCoupon_GEQ5min         int64\n",
       " toCoupon_GEQ15min        int64\n",
       " toCoupon_GEQ25min        int64\n",
       " direction_same           int64\n",
       " direction_opp            int64\n",
       " Y                        int64\n",
       " dtype: object,\n",
       "             destination passanger weather   temperature   time        coupon  \\\n",
       " count             12684     12684   12684  12684.000000  12684         12684   \n",
       " unique                3         4       3           NaN      5             5   \n",
       " top     No Urgent Place     Alone   Sunny           NaN    6PM  Coffee House   \n",
       " freq               6283      7305   10069           NaN   3230          3996   \n",
       " mean                NaN       NaN     NaN     63.301798    NaN           NaN   \n",
       " std                 NaN       NaN     NaN     19.154486    NaN           NaN   \n",
       " min                 NaN       NaN     NaN     30.000000    NaN           NaN   \n",
       " 25%                 NaN       NaN     NaN     55.000000    NaN           NaN   \n",
       " 50%                 NaN       NaN     NaN     80.000000    NaN           NaN   \n",
       " 75%                 NaN       NaN     NaN     80.000000    NaN           NaN   \n",
       " max                 NaN       NaN     NaN     80.000000    NaN           NaN   \n",
       " \n",
       "        expiration  gender    age    maritalStatus  ...  CoffeeHouse CarryAway  \\\n",
       " count       12684   12684  12684            12684  ...        12467     12533   \n",
       " unique          2       2      8                5  ...            5         5   \n",
       " top            1d  Female     21  Married partner  ...        less1       1~3   \n",
       " freq         7091    6511   2653             5100  ...         3385      4672   \n",
       " mean          NaN     NaN    NaN              NaN  ...          NaN       NaN   \n",
       " std           NaN     NaN    NaN              NaN  ...          NaN       NaN   \n",
       " min           NaN     NaN    NaN              NaN  ...          NaN       NaN   \n",
       " 25%           NaN     NaN    NaN              NaN  ...          NaN       NaN   \n",
       " 50%           NaN     NaN    NaN              NaN  ...          NaN       NaN   \n",
       " 75%           NaN     NaN    NaN              NaN  ...          NaN       NaN   \n",
       " max           NaN     NaN    NaN              NaN  ...          NaN       NaN   \n",
       " \n",
       "        RestaurantLessThan20 Restaurant20To50 toCoupon_GEQ5min  \\\n",
       " count                 12554            12495          12684.0   \n",
       " unique                    5                5              NaN   \n",
       " top                     1~3            less1              NaN   \n",
       " freq                   5376             6077              NaN   \n",
       " mean                    NaN              NaN              1.0   \n",
       " std                     NaN              NaN              0.0   \n",
       " min                     NaN              NaN              1.0   \n",
       " 25%                     NaN              NaN              1.0   \n",
       " 50%                     NaN              NaN              1.0   \n",
       " 75%                     NaN              NaN              1.0   \n",
       " max                     NaN              NaN              1.0   \n",
       " \n",
       "        toCoupon_GEQ15min toCoupon_GEQ25min direction_same direction_opp  \\\n",
       " count       12684.000000      12684.000000   12684.000000  12684.000000   \n",
       " unique               NaN               NaN            NaN           NaN   \n",
       " top                  NaN               NaN            NaN           NaN   \n",
       " freq                 NaN               NaN            NaN           NaN   \n",
       " mean            0.561495          0.119126       0.214759      0.785241   \n",
       " std             0.496224          0.323950       0.410671      0.410671   \n",
       " min             0.000000          0.000000       0.000000      0.000000   \n",
       " 25%             0.000000          0.000000       0.000000      1.000000   \n",
       " 50%             1.000000          0.000000       0.000000      1.000000   \n",
       " 75%             1.000000          0.000000       0.000000      1.000000   \n",
       " max             1.000000          1.000000       1.000000      1.000000   \n",
       " \n",
       "                    Y  \n",
       " count   12684.000000  \n",
       " unique           NaN  \n",
       " top              NaN  \n",
       " freq             NaN  \n",
       " mean        0.568433  \n",
       " std         0.495314  \n",
       " min         0.000000  \n",
       " 25%         0.000000  \n",
       " 50%         1.000000  \n",
       " 75%         1.000000  \n",
       " max         1.000000  \n",
       " \n",
       " [11 rows x 26 columns])"
      ]
     },
     "execution_count": 10,
     "metadata": {},
     "output_type": "execute_result"
    }
   ],
   "source": [
    "# Check for any obvious signs of problematic data (e.g., unexpected data types, impossible values)\n",
    "data_types = data.dtypes\n",
    "summary_statistics = data.describe(include='all')\n",
    "\n",
    "data_types, summary_statistics"
   ]
  },
  {
   "cell_type": "markdown",
   "metadata": {},
   "source": [
    "The car column has 12,576 missing values\n",
    "\n",
    "There are missing values in the Bar, CoffeeHouse, CarryAway, RestaurantLessThan20, and Restaurant20To50 columns\n",
    "\n",
    "The data types for each column are generally as expected, with categorical data represented as object and numerical data as int64.\n"
   ]
  },
  {
   "cell_type": "markdown",
   "metadata": {},
   "source": [
    "3. Decide what to do about your missing data -- drop, replace, other..."
   ]
  },
  {
   "cell_type": "code",
   "execution_count": 12,
   "metadata": {},
   "outputs": [],
   "source": [
    "# Dropping the 'car' column due to a large number of missing values\n",
    "data_cleaned = data.drop(columns=['car'])"
   ]
  },
  {
   "cell_type": "code",
   "execution_count": 14,
   "metadata": {},
   "outputs": [],
   "source": [
    "# For other columns with missing values, replace missing values with the mode (most frequent value)\n",
    "columns_with_missing_values = ['Bar', 'CoffeeHouse', 'CarryAway', 'RestaurantLessThan20', 'Restaurant20To50']\n",
    "for column in columns_with_missing_values:\n",
    "    mode_value = data_cleaned[column].mode()[0]  # Get the mode value for the column\n",
    "    data_cleaned[column].fillna(mode_value, inplace=True)  # Replace missing values with the mode"
   ]
  },
  {
   "cell_type": "code",
   "execution_count": 16,
   "metadata": {},
   "outputs": [
    {
     "data": {
      "text/plain": [
       "destination             0\n",
       "passanger               0\n",
       "weather                 0\n",
       "temperature             0\n",
       "time                    0\n",
       "coupon                  0\n",
       "expiration              0\n",
       "gender                  0\n",
       "age                     0\n",
       "maritalStatus           0\n",
       "has_children            0\n",
       "education               0\n",
       "occupation              0\n",
       "income                  0\n",
       "Bar                     0\n",
       "CoffeeHouse             0\n",
       "CarryAway               0\n",
       "RestaurantLessThan20    0\n",
       "Restaurant20To50        0\n",
       "toCoupon_GEQ5min        0\n",
       "toCoupon_GEQ15min       0\n",
       "toCoupon_GEQ25min       0\n",
       "direction_same          0\n",
       "direction_opp           0\n",
       "Y                       0\n",
       "dtype: int64"
      ]
     },
     "execution_count": 16,
     "metadata": {},
     "output_type": "execute_result"
    }
   ],
   "source": [
    "# Verify if missing values have been addressed\n",
    "missing_data_after_cleaning = data_cleaned.isnull().sum()\n",
    "\n",
    "missing_data_after_cleaning"
   ]
  },
  {
   "cell_type": "code",
   "execution_count": null,
   "metadata": {},
   "outputs": [],
   "source": []
  },
  {
   "cell_type": "markdown",
   "metadata": {},
   "source": [
    "4. What proportion of the total observations chose to accept the coupon? \n",
    "\n"
   ]
  },
  {
   "cell_type": "code",
   "execution_count": 19,
   "metadata": {},
   "outputs": [
    {
     "data": {
      "text/plain": [
       "0.5684326710816777"
      ]
     },
     "execution_count": 19,
     "metadata": {},
     "output_type": "execute_result"
    }
   ],
   "source": [
    "# Calculate the proportion of observations that accepted the coupon\n",
    "proportion_accepted = data_cleaned['Y'].mean()  # Mean will give the proportion of '1's in the column\n",
    "\n",
    "proportion_accepted"
   ]
  },
  {
   "cell_type": "markdown",
   "metadata": {},
   "source": [
    " Approximately 56.84% of the respondents chose to accept the coupon"
   ]
  },
  {
   "cell_type": "markdown",
   "metadata": {},
   "source": [
    "5. Use a bar plot to visualize the `coupon` column."
   ]
  },
  {
   "cell_type": "code",
   "execution_count": 22,
   "metadata": {},
   "outputs": [
    {
     "data": {
      "image/png": "[encoded data removed]",
      "text/plain": [
       "<Figure size 1000x600 with 1 Axes>"
      ]
     },
     "metadata": {},
     "output_type": "display_data"
    }
   ],
   "source": [
    "# Set the aesthetics for the plots\n",
    "sns.set(style=\"whitegrid\")\n",
    "\n",
    "# Bar plot for the 'coupon' column\n",
    "plt.figure(figsize=(10, 6))\n",
    "sns.countplot(data=data_cleaned, x='coupon', order=data_cleaned['coupon'].value_counts().index)\n",
    "plt.title('Coupon Type Distribution')\n",
    "plt.xticks(rotation=45)\n",
    "plt.ylabel('Count')\n",
    "plt.xlabel('Coupon Type')\n",
    "\n",
    "plt.show()"
   ]
  },
  {
   "cell_type": "markdown",
   "metadata": {},
   "source": [
    "The bar plot reveals the frequency of each coupon type offered to respondents. Coffee House coupons are the most frequently offered, followed by coupons for restaurants with expenses under $20. Carry out & Take away, Bar, and more expensive restaurants ($20 - $50) coupons are less common but still significant."
   ]
  },
  {
   "cell_type": "markdown",
   "metadata": {},
   "source": [
    "6. Use a histogram to visualize the temperature column."
   ]
  },
  {
   "cell_type": "code",
   "execution_count": 24,
   "metadata": {},
   "outputs": [
    {
     "data": {
      "image/png": "[encoded data removed]",
      "text/plain": [
       "<Figure size 800x500 with 1 Axes>"
      ]
     },
     "metadata": {},
     "output_type": "display_data"
    }
   ],
   "source": [
    "# Histogram for the 'temperature' column\n",
    "plt.figure(figsize=(8, 5))\n",
    "sns.histplot(data=data_cleaned, x='temperature', bins=3, kde=True)\n",
    "plt.title('Temperature Distribution')\n",
    "plt.xlabel('Temperature (°F)')\n",
    "plt.ylabel('Count')\n",
    "\n",
    "plt.show()"
   ]
  },
  {
   "cell_type": "markdown",
   "metadata": {},
   "source": [
    "The histogram for temperature shows peaks around 55°F and 80°F, indicating that most of the data points (scenarios described in the dataset) occur under relatively mild (55°F) and warm (80°F) conditions. There's a smaller representation of colder weather (30°F), suggesting fewer observations or scenarios involving cold temperatures."
   ]
  },
  {
   "cell_type": "code",
   "execution_count": null,
   "metadata": {},
   "outputs": [],
   "source": []
  },
  {
   "cell_type": "markdown",
   "metadata": {},
   "source": [
    "**Investigating the Bar Coupons**\n",
    "\n",
    "Now, we will lead you through an exploration of just the bar related coupons.  \n",
    "\n",
    "1. Create a new `DataFrame` that contains just the bar coupons.\n"
   ]
  },
  {
   "cell_type": "code",
   "execution_count": 25,
   "metadata": {},
   "outputs": [
    {
     "data": {
      "text/html": [
       "<div>\n",
       "<style scoped>\n",
       "    .dataframe tbody tr th:only-of-type {\n",
       "        vertical-align: middle;\n",
       "    }\n",
       "\n",
       "    .dataframe tbody tr th {\n",
       "        vertical-align: top;\n",
       "    }\n",
       "\n",
       "    .dataframe thead th {\n",
       "        text-align: right;\n",
       "    }\n",
       "</style>\n",
       "<table border=\"1\" class=\"dataframe\">\n",
       "  <thead>\n",
       "    <tr style=\"text-align: right;\">\n",
       "      <th></th>\n",
       "      <th>destination</th>\n",
       "      <th>passanger</th>\n",
       "      <th>weather</th>\n",
       "      <th>temperature</th>\n",
       "      <th>time</th>\n",
       "      <th>coupon</th>\n",
       "      <th>expiration</th>\n",
       "      <th>gender</th>\n",
       "      <th>age</th>\n",
       "      <th>maritalStatus</th>\n",
       "      <th>...</th>\n",
       "      <th>CoffeeHouse</th>\n",
       "      <th>CarryAway</th>\n",
       "      <th>RestaurantLessThan20</th>\n",
       "      <th>Restaurant20To50</th>\n",
       "      <th>toCoupon_GEQ5min</th>\n",
       "      <th>toCoupon_GEQ15min</th>\n",
       "      <th>toCoupon_GEQ25min</th>\n",
       "      <th>direction_same</th>\n",
       "      <th>direction_opp</th>\n",
       "      <th>Y</th>\n",
       "    </tr>\n",
       "  </thead>\n",
       "  <tbody>\n",
       "    <tr>\n",
       "      <th>9</th>\n",
       "      <td>No Urgent Place</td>\n",
       "      <td>Kid(s)</td>\n",
       "      <td>Sunny</td>\n",
       "      <td>80</td>\n",
       "      <td>10AM</td>\n",
       "      <td>Bar</td>\n",
       "      <td>1d</td>\n",
       "      <td>Female</td>\n",
       "      <td>21</td>\n",
       "      <td>Unmarried partner</td>\n",
       "      <td>...</td>\n",
       "      <td>never</td>\n",
       "      <td>1~3</td>\n",
       "      <td>4~8</td>\n",
       "      <td>1~3</td>\n",
       "      <td>1</td>\n",
       "      <td>1</td>\n",
       "      <td>0</td>\n",
       "      <td>0</td>\n",
       "      <td>1</td>\n",
       "      <td>0</td>\n",
       "    </tr>\n",
       "    <tr>\n",
       "      <th>13</th>\n",
       "      <td>Home</td>\n",
       "      <td>Alone</td>\n",
       "      <td>Sunny</td>\n",
       "      <td>55</td>\n",
       "      <td>6PM</td>\n",
       "      <td>Bar</td>\n",
       "      <td>1d</td>\n",
       "      <td>Female</td>\n",
       "      <td>21</td>\n",
       "      <td>Unmarried partner</td>\n",
       "      <td>...</td>\n",
       "      <td>never</td>\n",
       "      <td>1~3</td>\n",
       "      <td>4~8</td>\n",
       "      <td>1~3</td>\n",
       "      <td>1</td>\n",
       "      <td>0</td>\n",
       "      <td>0</td>\n",
       "      <td>1</td>\n",
       "      <td>0</td>\n",
       "      <td>1</td>\n",
       "    </tr>\n",
       "    <tr>\n",
       "      <th>17</th>\n",
       "      <td>Work</td>\n",
       "      <td>Alone</td>\n",
       "      <td>Sunny</td>\n",
       "      <td>55</td>\n",
       "      <td>7AM</td>\n",
       "      <td>Bar</td>\n",
       "      <td>1d</td>\n",
       "      <td>Female</td>\n",
       "      <td>21</td>\n",
       "      <td>Unmarried partner</td>\n",
       "      <td>...</td>\n",
       "      <td>never</td>\n",
       "      <td>1~3</td>\n",
       "      <td>4~8</td>\n",
       "      <td>1~3</td>\n",
       "      <td>1</td>\n",
       "      <td>1</td>\n",
       "      <td>1</td>\n",
       "      <td>0</td>\n",
       "      <td>1</td>\n",
       "      <td>0</td>\n",
       "    </tr>\n",
       "    <tr>\n",
       "      <th>24</th>\n",
       "      <td>No Urgent Place</td>\n",
       "      <td>Friend(s)</td>\n",
       "      <td>Sunny</td>\n",
       "      <td>80</td>\n",
       "      <td>10AM</td>\n",
       "      <td>Bar</td>\n",
       "      <td>1d</td>\n",
       "      <td>Male</td>\n",
       "      <td>21</td>\n",
       "      <td>Single</td>\n",
       "      <td>...</td>\n",
       "      <td>less1</td>\n",
       "      <td>4~8</td>\n",
       "      <td>4~8</td>\n",
       "      <td>less1</td>\n",
       "      <td>1</td>\n",
       "      <td>0</td>\n",
       "      <td>0</td>\n",
       "      <td>0</td>\n",
       "      <td>1</td>\n",
       "      <td>1</td>\n",
       "    </tr>\n",
       "    <tr>\n",
       "      <th>35</th>\n",
       "      <td>Home</td>\n",
       "      <td>Alone</td>\n",
       "      <td>Sunny</td>\n",
       "      <td>55</td>\n",
       "      <td>6PM</td>\n",
       "      <td>Bar</td>\n",
       "      <td>1d</td>\n",
       "      <td>Male</td>\n",
       "      <td>21</td>\n",
       "      <td>Single</td>\n",
       "      <td>...</td>\n",
       "      <td>less1</td>\n",
       "      <td>4~8</td>\n",
       "      <td>4~8</td>\n",
       "      <td>less1</td>\n",
       "      <td>1</td>\n",
       "      <td>0</td>\n",
       "      <td>0</td>\n",
       "      <td>1</td>\n",
       "      <td>0</td>\n",
       "      <td>1</td>\n",
       "    </tr>\n",
       "  </tbody>\n",
       "</table>\n",
       "<p>5 rows × 25 columns</p>\n",
       "</div>"
      ],
      "text/plain": [
       "        destination  passanger weather  temperature  time coupon expiration  \\\n",
       "9   No Urgent Place     Kid(s)   Sunny           80  10AM    Bar         1d   \n",
       "13             Home      Alone   Sunny           55   6PM    Bar         1d   \n",
       "17             Work      Alone   Sunny           55   7AM    Bar         1d   \n",
       "24  No Urgent Place  Friend(s)   Sunny           80  10AM    Bar         1d   \n",
       "35             Home      Alone   Sunny           55   6PM    Bar         1d   \n",
       "\n",
       "    gender age      maritalStatus  ...  CoffeeHouse CarryAway  \\\n",
       "9   Female  21  Unmarried partner  ...        never       1~3   \n",
       "13  Female  21  Unmarried partner  ...        never       1~3   \n",
       "17  Female  21  Unmarried partner  ...        never       1~3   \n",
       "24    Male  21             Single  ...        less1       4~8   \n",
       "35    Male  21             Single  ...        less1       4~8   \n",
       "\n",
       "   RestaurantLessThan20 Restaurant20To50 toCoupon_GEQ5min toCoupon_GEQ15min  \\\n",
       "9                   4~8              1~3                1                 1   \n",
       "13                  4~8              1~3                1                 0   \n",
       "17                  4~8              1~3                1                 1   \n",
       "24                  4~8            less1                1                 0   \n",
       "35                  4~8            less1                1                 0   \n",
       "\n",
       "   toCoupon_GEQ25min direction_same direction_opp  Y  \n",
       "9                  0              0             1  0  \n",
       "13                 0              1             0  1  \n",
       "17                 1              0             1  0  \n",
       "24                 0              0             1  1  \n",
       "35                 0              1             0  1  \n",
       "\n",
       "[5 rows x 25 columns]"
      ]
     },
     "execution_count": 25,
     "metadata": {},
     "output_type": "execute_result"
    }
   ],
   "source": [
    "# Create a new DataFrame that contains just the bar coupons\n",
    "bar_coupons_df = data_cleaned[data_cleaned['coupon'] == 'Bar']\n",
    "\n",
    "bar_coupons_df.head()"
   ]
  },
  {
   "cell_type": "markdown",
   "metadata": {},
   "source": [
    "2. What proportion of bar coupons were accepted?\n"
   ]
  },
  {
   "cell_type": "code",
   "execution_count": 26,
   "metadata": {},
   "outputs": [
    {
     "data": {
      "text/plain": [
       "0.41001487357461575"
      ]
     },
     "execution_count": 26,
     "metadata": {},
     "output_type": "execute_result"
    }
   ],
   "source": [
    "# Calculate the proportion of bar coupons that were accepted\n",
    "proportion_bar_coupons_accepted = bar_coupons_df['Y'].mean()\n",
    "\n",
    "proportion_bar_coupons_accepted"
   ]
  },
  {
   "cell_type": "markdown",
   "metadata": {},
   "source": [
    "The proportion of bar coupons that were accepted is approximately 41.00%."
   ]
  },
  {
   "cell_type": "markdown",
   "metadata": {},
   "source": [
    "3. Compare the acceptance rate between those who went to a bar 3 or fewer times a month to those who went more.\n"
   ]
  },
  {
   "cell_type": "code",
   "execution_count": 29,
   "metadata": {},
   "outputs": [
    {
     "name": "stderr",
     "output_type": "stream",
     "text": [
      "/var/folders/rx/4psh00tn6bs4nskbyv97wzcm0000gp/T/ipykernel_31398/3551612103.py:12: SettingWithCopyWarning: \n",
      "A value is trying to be set on a copy of a slice from a DataFrame.\n",
      "Try using .loc[row_indexer,col_indexer] = value instead\n",
      "\n",
      "See the caveats in the documentation: https://pandas.pydata.org/pandas-docs/stable/user_guide/indexing.html#returning-a-view-versus-a-copy\n",
      "  bar_coupons_df['Bar_numeric'] = bar_coupons_df['Bar'].map(bar_visit_mapping)\n"
     ]
    },
    {
     "data": {
      "text/plain": [
       "(0.37073707370737075, 0.7688442211055276)"
      ]
     },
     "execution_count": 29,
     "metadata": {},
     "output_type": "execute_result"
    }
   ],
   "source": [
    "# Mapping the 'Bar' column to a numerical representation for easier comparison\n",
    "# Assuming 'never' = 0, 'less1' = 0.5, '1~3' = 2 (average of the range), '4~8' = 6, 'gt8' = 9\n",
    "bar_visit_mapping = {\n",
    "    'never': 0,\n",
    "    'less1': 0.5,\n",
    "    '1~3': 2,\n",
    "    '4~8': 6,\n",
    "    'gt8': 9\n",
    "}\n",
    "\n",
    "# Apply mapping to the 'Bar' column\n",
    "bar_coupons_df['Bar_numeric'] = bar_coupons_df['Bar'].map(bar_visit_mapping)\n",
    "\n",
    "# Compare the acceptance rate\n",
    "acceptance_rate_less_equal_3 = bar_coupons_df[bar_coupons_df['Bar_numeric'] <= 3]['Y'].mean()\n",
    "acceptance_rate_more_than_3 = bar_coupons_df[bar_coupons_df['Bar_numeric'] > 3]['Y'].mean()\n",
    "\n",
    "acceptance_rate_less_equal_3, acceptance_rate_more_than_3\n"
   ]
  },
  {
   "cell_type": "markdown",
   "metadata": {},
   "source": [
    "The acceptance rate of bar coupons is approximately 37.07% for those who go to a bar 3 or fewer times a month, and significantly higher at 76.88% for those who go to a bar more than 3 times a month. This suggests that frequent bar-goers are more likely to accept bar coupons."
   ]
  },
  {
   "cell_type": "markdown",
   "metadata": {},
   "source": [
    "4. Compare the acceptance rate between drivers who go to a bar more than once a month and are over the age of 25 to the all others.  Is there a difference?\n"
   ]
  },
  {
   "cell_type": "code",
   "execution_count": 31,
   "metadata": {},
   "outputs": [
    {
     "name": "stderr",
     "output_type": "stream",
     "text": [
      "/var/folders/rx/4psh00tn6bs4nskbyv97wzcm0000gp/T/ipykernel_31398/3873576209.py:3: SettingWithCopyWarning: \n",
      "A value is trying to be set on a copy of a slice from a DataFrame.\n",
      "Try using .loc[row_indexer,col_indexer] = value instead\n",
      "\n",
      "See the caveats in the documentation: https://pandas.pydata.org/pandas-docs/stable/user_guide/indexing.html#returning-a-view-versus-a-copy\n",
      "  bar_coupons_df['bar_over_25'] = (bar_coupons_df['Bar_numeric'] > 0.5) & (bar_coupons_df['age'] > '25')\n"
     ]
    },
    {
     "data": {
      "text/plain": [
       "(0.6883720930232559, 0.33459357277882795)"
      ]
     },
     "execution_count": 31,
     "metadata": {},
     "output_type": "execute_result"
    }
   ],
   "source": [
    "# Create a new column to identify the specific group of interest\n",
    "# Drivers who go to a bar more than once a month and are over the age of 25\n",
    "bar_coupons_df['bar_over_25'] = (bar_coupons_df['Bar_numeric'] > 0.5) & (bar_coupons_df['age'] > '25')\n",
    "\n",
    "# Compare the acceptance rate\n",
    "acceptance_rate_bar_over_25 = bar_coupons_df[bar_coupons_df['bar_over_25']]['Y'].mean()\n",
    "acceptance_rate_others = bar_coupons_df[~bar_coupons_df['bar_over_25']]['Y'].mean()\n",
    "\n",
    "acceptance_rate_bar_over_25, acceptance_rate_others\n"
   ]
  },
  {
   "cell_type": "markdown",
   "metadata": {},
   "source": [
    "The acceptance rate of bar coupons is approximately 68.84% for drivers who go to a bar more than once a month and are over the age of 25, compared to 33.46% for all others. This indicates a significant difference, with the specified group showing a much higher likelihood of accepting bar coupons."
   ]
  },
  {
   "cell_type": "markdown",
   "metadata": {},
   "source": [
    "5. Use the same process to compare the acceptance rate between drivers who go to bars more than once a month and had passengers that were not a kid and had occupations other than farming, fishing, or forestry. \n"
   ]
  },
  {
   "cell_type": "code",
   "execution_count": 32,
   "metadata": {},
   "outputs": [
    {
     "name": "stderr",
     "output_type": "stream",
     "text": [
      "/var/folders/rx/4psh00tn6bs4nskbyv97wzcm0000gp/T/ipykernel_31398/4233807129.py:2: SettingWithCopyWarning: \n",
      "A value is trying to be set on a copy of a slice from a DataFrame.\n",
      "Try using .loc[row_indexer,col_indexer] = value instead\n",
      "\n",
      "See the caveats in the documentation: https://pandas.pydata.org/pandas-docs/stable/user_guide/indexing.html#returning-a-view-versus-a-copy\n",
      "  bar_coupons_df['specified_criteria'] = (bar_coupons_df['Bar_numeric'] > 0.5) & \\\n"
     ]
    },
    {
     "data": {
      "text/plain": [
       "(0.7132486388384754, 0.296043656207367)"
      ]
     },
     "execution_count": 32,
     "metadata": {},
     "output_type": "execute_result"
    }
   ],
   "source": [
    "# Identify drivers based on the specified criteria\n",
    "bar_coupons_df['specified_criteria'] = (bar_coupons_df['Bar_numeric'] > 0.5) & \\\n",
    "                                       (bar_coupons_df['passanger'] != 'Kid(s)') & \\\n",
    "                                       (bar_coupons_df['occupation'] != 'Farming Fishing & Forestry')\n",
    "\n",
    "# Calculate acceptance rates\n",
    "acceptance_rate_specified_criteria = bar_coupons_df[bar_coupons_df['specified_criteria']]['Y'].mean()\n",
    "acceptance_rate_others_criteria = bar_coupons_df[~bar_coupons_df['specified_criteria']]['Y'].mean()\n",
    "\n",
    "acceptance_rate_specified_criteria, acceptance_rate_others_criteria\n"
   ]
  },
  {
   "cell_type": "markdown",
   "metadata": {},
   "source": [
    "The acceptance rate of bar coupons is approximately 71.32% for drivers who go to bars more than once a month, had passengers that were not kids, and had occupations other than farming, fishing, or forestry, compared to 29.60% for all others. This suggests that the specified group is significantly more inclined to accept bar coupons."
   ]
  },
  {
   "cell_type": "code",
   "execution_count": null,
   "metadata": {},
   "outputs": [],
   "source": []
  },
  {
   "cell_type": "markdown",
   "metadata": {},
   "source": [
    "6. Compare the acceptance rates between those drivers who:\n",
    "\n",
    "- go to bars more than once a month, had passengers that were not a kid, and were not widowed *OR*\n",
    "- go to bars more than once a month and are under the age of 30 *OR*\n",
    "- go to cheap restaurants more than 4 times a month and income is less than 50K. \n",
    "\n"
   ]
  },
  {
   "cell_type": "code",
   "execution_count": 34,
   "metadata": {},
   "outputs": [
    {
     "data": {
      "text/plain": [
       "(0.7132486388384754, 0.7217391304347827, 0.45348837209302323)"
      ]
     },
     "execution_count": 34,
     "metadata": {},
     "output_type": "execute_result"
    }
   ],
   "source": [
    "# Group 1: Go to bars more than once a month, had passengers that were not a kid, and were not widowed\n",
    "group_1_criteria = (bar_coupons_df['Bar_numeric'] > 0.5) & \\\n",
    "                   (bar_coupons_df['passanger'] != 'Kid(s)') & \\\n",
    "                   (bar_coupons_df['maritalStatus'] != 'Widowed')\n",
    "\n",
    "# Group 2: Go to bars more than once a month and are under the age of 30\n",
    "group_2_criteria = (bar_coupons_df['Bar_numeric'] > 0.5) & \\\n",
    "                   (bar_coupons_df['age'].isin(['below21', '21', '26', 'below25']))  # Including 'below21' and 'below25'\n",
    "\n",
    "# Group 3: Go to cheap restaurants more than 4 times a month and income is less than $50K\n",
    "# Assuming '4~8' and 'gt8' as more than 4 times a month\n",
    "group_3_criteria = (bar_coupons_df['RestaurantLessThan20'].isin(['4~8', 'gt8'])) & \\\n",
    "                   (bar_coupons_df['income'].isin(['Less than $12500', '$12500 - $24999', '$25000 - $37499', '$37500 - $49999']))\n",
    "\n",
    "# Calculate acceptance rates for each group\n",
    "acceptance_rate_group_1 = bar_coupons_df[group_1_criteria]['Y'].mean()\n",
    "acceptance_rate_group_2 = bar_coupons_df[group_2_criteria]['Y'].mean()\n",
    "acceptance_rate_group_3 = bar_coupons_df[group_3_criteria]['Y'].mean()\n",
    "\n",
    "acceptance_rate_group_1, acceptance_rate_group_2, acceptance_rate_group_3\n"
   ]
  },
  {
   "cell_type": "markdown",
   "metadata": {},
   "source": [
    "Approximately 71.32% for drivers who go to bars more than once a month, had passengers that were not a kid, and were not widowed.\n",
    "Approximately 72.17% for drivers who go to bars more than once a month and are under the age of 30.\n",
    "Approximately 45.35% for drivers who go to cheap restaurants more than 4 times a month and have an income of less than $50,000."
   ]
  },
  {
   "cell_type": "markdown",
   "metadata": {},
   "source": [
    "7.  Based on these observations, what do you hypothesize about drivers who accepted the bar coupons?"
   ]
  },
  {
   "cell_type": "markdown",
   "metadata": {},
   "source": [
    "Based on the observations, drivers who are more likely to accept bar coupons appear to be those who frequently visit bars (more than once a month) and are in certain demographics (e.g., not widowed, under the age of 30). These groups show a significantly higher acceptance rate compared to the overall population or other specified criteria. This suggests that familiarity and comfort with bar environments, along with demographic factors such as age and marital status, may play a crucial role in the likelihood of accepting bar-related coupons."
   ]
  },
  {
   "cell_type": "markdown",
   "metadata": {},
   "source": [
    "### Independent Investigation\n",
    "\n",
    "Using the bar coupon example as motivation, you are to explore one of the other coupon groups and try to determine the characteristics of passengers who accept the coupons.  "
   ]
  },
  {
   "cell_type": "markdown",
   "metadata": {},
   "source": [
    "For this analysis, I will focus on \"Coffee House\" coupons which were one of the most frequently offered coupon types and try to explore the characteristics of passengers who accept coupons for \"Coffee House\""
   ]
  },
  {
   "cell_type": "code",
   "execution_count": 36,
   "metadata": {},
   "outputs": [
    {
     "data": {
      "text/html": [
       "<div>\n",
       "<style scoped>\n",
       "    .dataframe tbody tr th:only-of-type {\n",
       "        vertical-align: middle;\n",
       "    }\n",
       "\n",
       "    .dataframe tbody tr th {\n",
       "        vertical-align: top;\n",
       "    }\n",
       "\n",
       "    .dataframe thead th {\n",
       "        text-align: right;\n",
       "    }\n",
       "</style>\n",
       "<table border=\"1\" class=\"dataframe\">\n",
       "  <thead>\n",
       "    <tr style=\"text-align: right;\">\n",
       "      <th></th>\n",
       "      <th>destination</th>\n",
       "      <th>passanger</th>\n",
       "      <th>weather</th>\n",
       "      <th>temperature</th>\n",
       "      <th>time</th>\n",
       "      <th>coupon</th>\n",
       "      <th>expiration</th>\n",
       "      <th>gender</th>\n",
       "      <th>age</th>\n",
       "      <th>maritalStatus</th>\n",
       "      <th>...</th>\n",
       "      <th>CoffeeHouse</th>\n",
       "      <th>CarryAway</th>\n",
       "      <th>RestaurantLessThan20</th>\n",
       "      <th>Restaurant20To50</th>\n",
       "      <th>toCoupon_GEQ5min</th>\n",
       "      <th>toCoupon_GEQ15min</th>\n",
       "      <th>toCoupon_GEQ25min</th>\n",
       "      <th>direction_same</th>\n",
       "      <th>direction_opp</th>\n",
       "      <th>Y</th>\n",
       "    </tr>\n",
       "  </thead>\n",
       "  <tbody>\n",
       "    <tr>\n",
       "      <th>1</th>\n",
       "      <td>No Urgent Place</td>\n",
       "      <td>Friend(s)</td>\n",
       "      <td>Sunny</td>\n",
       "      <td>80</td>\n",
       "      <td>10AM</td>\n",
       "      <td>Coffee House</td>\n",
       "      <td>2h</td>\n",
       "      <td>Female</td>\n",
       "      <td>21</td>\n",
       "      <td>Unmarried partner</td>\n",
       "      <td>...</td>\n",
       "      <td>never</td>\n",
       "      <td>1~3</td>\n",
       "      <td>4~8</td>\n",
       "      <td>1~3</td>\n",
       "      <td>1</td>\n",
       "      <td>0</td>\n",
       "      <td>0</td>\n",
       "      <td>0</td>\n",
       "      <td>1</td>\n",
       "      <td>0</td>\n",
       "    </tr>\n",
       "    <tr>\n",
       "      <th>3</th>\n",
       "      <td>No Urgent Place</td>\n",
       "      <td>Friend(s)</td>\n",
       "      <td>Sunny</td>\n",
       "      <td>80</td>\n",
       "      <td>2PM</td>\n",
       "      <td>Coffee House</td>\n",
       "      <td>2h</td>\n",
       "      <td>Female</td>\n",
       "      <td>21</td>\n",
       "      <td>Unmarried partner</td>\n",
       "      <td>...</td>\n",
       "      <td>never</td>\n",
       "      <td>1~3</td>\n",
       "      <td>4~8</td>\n",
       "      <td>1~3</td>\n",
       "      <td>1</td>\n",
       "      <td>1</td>\n",
       "      <td>0</td>\n",
       "      <td>0</td>\n",
       "      <td>1</td>\n",
       "      <td>0</td>\n",
       "    </tr>\n",
       "    <tr>\n",
       "      <th>4</th>\n",
       "      <td>No Urgent Place</td>\n",
       "      <td>Friend(s)</td>\n",
       "      <td>Sunny</td>\n",
       "      <td>80</td>\n",
       "      <td>2PM</td>\n",
       "      <td>Coffee House</td>\n",
       "      <td>1d</td>\n",
       "      <td>Female</td>\n",
       "      <td>21</td>\n",
       "      <td>Unmarried partner</td>\n",
       "      <td>...</td>\n",
       "      <td>never</td>\n",
       "      <td>1~3</td>\n",
       "      <td>4~8</td>\n",
       "      <td>1~3</td>\n",
       "      <td>1</td>\n",
       "      <td>1</td>\n",
       "      <td>0</td>\n",
       "      <td>0</td>\n",
       "      <td>1</td>\n",
       "      <td>0</td>\n",
       "    </tr>\n",
       "    <tr>\n",
       "      <th>12</th>\n",
       "      <td>No Urgent Place</td>\n",
       "      <td>Kid(s)</td>\n",
       "      <td>Sunny</td>\n",
       "      <td>55</td>\n",
       "      <td>6PM</td>\n",
       "      <td>Coffee House</td>\n",
       "      <td>2h</td>\n",
       "      <td>Female</td>\n",
       "      <td>21</td>\n",
       "      <td>Unmarried partner</td>\n",
       "      <td>...</td>\n",
       "      <td>never</td>\n",
       "      <td>1~3</td>\n",
       "      <td>4~8</td>\n",
       "      <td>1~3</td>\n",
       "      <td>1</td>\n",
       "      <td>1</td>\n",
       "      <td>0</td>\n",
       "      <td>0</td>\n",
       "      <td>1</td>\n",
       "      <td>1</td>\n",
       "    </tr>\n",
       "    <tr>\n",
       "      <th>15</th>\n",
       "      <td>Home</td>\n",
       "      <td>Alone</td>\n",
       "      <td>Sunny</td>\n",
       "      <td>80</td>\n",
       "      <td>6PM</td>\n",
       "      <td>Coffee House</td>\n",
       "      <td>2h</td>\n",
       "      <td>Female</td>\n",
       "      <td>21</td>\n",
       "      <td>Unmarried partner</td>\n",
       "      <td>...</td>\n",
       "      <td>never</td>\n",
       "      <td>1~3</td>\n",
       "      <td>4~8</td>\n",
       "      <td>1~3</td>\n",
       "      <td>1</td>\n",
       "      <td>0</td>\n",
       "      <td>0</td>\n",
       "      <td>0</td>\n",
       "      <td>1</td>\n",
       "      <td>0</td>\n",
       "    </tr>\n",
       "  </tbody>\n",
       "</table>\n",
       "<p>5 rows × 25 columns</p>\n",
       "</div>"
      ],
      "text/plain": [
       "        destination  passanger weather  temperature  time        coupon  \\\n",
       "1   No Urgent Place  Friend(s)   Sunny           80  10AM  Coffee House   \n",
       "3   No Urgent Place  Friend(s)   Sunny           80   2PM  Coffee House   \n",
       "4   No Urgent Place  Friend(s)   Sunny           80   2PM  Coffee House   \n",
       "12  No Urgent Place     Kid(s)   Sunny           55   6PM  Coffee House   \n",
       "15             Home      Alone   Sunny           80   6PM  Coffee House   \n",
       "\n",
       "   expiration  gender age      maritalStatus  ...  CoffeeHouse CarryAway  \\\n",
       "1          2h  Female  21  Unmarried partner  ...        never       1~3   \n",
       "3          2h  Female  21  Unmarried partner  ...        never       1~3   \n",
       "4          1d  Female  21  Unmarried partner  ...        never       1~3   \n",
       "12         2h  Female  21  Unmarried partner  ...        never       1~3   \n",
       "15         2h  Female  21  Unmarried partner  ...        never       1~3   \n",
       "\n",
       "   RestaurantLessThan20 Restaurant20To50 toCoupon_GEQ5min toCoupon_GEQ15min  \\\n",
       "1                   4~8              1~3                1                 0   \n",
       "3                   4~8              1~3                1                 1   \n",
       "4                   4~8              1~3                1                 1   \n",
       "12                  4~8              1~3                1                 1   \n",
       "15                  4~8              1~3                1                 0   \n",
       "\n",
       "   toCoupon_GEQ25min direction_same direction_opp  Y  \n",
       "1                  0              0             1  0  \n",
       "3                  0              0             1  0  \n",
       "4                  0              0             1  0  \n",
       "12                 0              0             1  1  \n",
       "15                 0              0             1  0  \n",
       "\n",
       "[5 rows x 25 columns]"
      ]
     },
     "execution_count": 36,
     "metadata": {},
     "output_type": "execute_result"
    }
   ],
   "source": [
    "# Create a new DataFrame that contains just the \"Coffee House\" coupons\n",
    "coffee_house_coupons_df = data_cleaned[data_cleaned['coupon'] == 'Coffee House']\n",
    "\n",
    "# Display the first few rows to confirm\n",
    "coffee_house_coupons_df.head()\n"
   ]
  },
  {
   "cell_type": "code",
   "execution_count": 38,
   "metadata": {},
   "outputs": [
    {
     "data": {
      "text/plain": [
       "0.49924924924924924"
      ]
     },
     "execution_count": 38,
     "metadata": {},
     "output_type": "execute_result"
    }
   ],
   "source": [
    "# Calculate the overall acceptance rate of \"Coffee House\" coupons\n",
    "proportion_coffee_house_coupons_accepted = coffee_house_coupons_df['Y'].mean()\n",
    "\n",
    "proportion_coffee_house_coupons_accepted\n"
   ]
  },
  {
   "cell_type": "markdown",
   "metadata": {},
   "source": [
    "The overall acceptance rate of \"Coffee House\" coupons is approximately 49.92%."
   ]
  },
  {
   "cell_type": "code",
   "execution_count": 40,
   "metadata": {},
   "outputs": [
    {
     "data": {
      "image/png": "[encoded data removed]",
      "text/plain": [
       "<Figure size 1000x600 with 1 Axes>"
      ]
     },
     "metadata": {},
     "output_type": "display_data"
    }
   ],
   "source": [
    "# Visualize the acceptance rate by frequency of visiting coffee houses\n",
    "plt.figure(figsize=(10, 6))\n",
    "sns.barplot(x='CoffeeHouse', y='Y', data=coffee_house_coupons_df, order=['never', 'less1', '1~3', '4~8', 'gt8'])\n",
    "plt.title('Acceptance Rate of Coffee House Coupons by Visit Frequency')\n",
    "plt.xlabel('Frequency of Visiting Coffee Houses')\n",
    "plt.ylabel('Acceptance Rate')\n",
    "plt.show()\n"
   ]
  },
  {
   "cell_type": "markdown",
   "metadata": {},
   "source": [
    "The bar plot illustrates the acceptance rate of \"Coffee House\" coupons based on the frequency of visiting coffee houses. It shows a trend where individuals who visit coffee houses more frequently are generally more likely to accept the coupons, with the highest acceptance rates observed among those who visit coffee houses \"1~3\" times a month or more.\n",
    "\n",
    "This finding suggests that familiarity and habitual patronage of coffee houses are significant factors influencing the likelihood of accepting coffee house-related coupons."
   ]
  },
  {
   "cell_type": "code",
   "execution_count": null,
   "metadata": {},
   "outputs": [],
   "source": []
  }
 ],
 "metadata": {
  "kernelspec": {
   "display_name": "Python 3 (ipykernel)",
   "language": "python",
   "name": "python3"
  },
  "language_info": {
   "codemirror_mode": {
    "name": "ipython",
    "version": 3
   },
   "file_extension": ".py",
   "mimetype": "text/x-python",
   "name": "python",
   "nbconvert_exporter": "python",
   "pygments_lexer": "ipython3",
   "version": "3.11.5"
  },
  "widgets": {
   "application/vnd.jupyter.widget-state+json": {
    "state": {},
    "version_major": 2,
    "version_minor": 0
   }
  }
 },
 "nbformat": 4,
 "nbformat_minor": 4
}
